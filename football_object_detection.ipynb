{
 "cells": [
  {
   "cell_type": "markdown",
   "id": "f785562b",
   "metadata": {},
   "source": [
    "### Install Dependencies"
   ]
  },
  {
   "cell_type": "code",
   "execution_count": null,
   "id": "7fa7afcb",
   "metadata": {},
   "outputs": [],
   "source": [
    "!pip install -r requirements.txt"
    "#!pip install pandas==1.3.2 opencv-python==4.9.0.80 scikit-learn==0.24.2 ultralytics==8.2.91 numpy==1.23.2 supervision==0.23.0"
   ]
  },
  {
   "cell_type": "markdown",
   "id": "9487fdf5",
   "metadata": {},
   "source": [
    "### Import Libs"
   ]
  },
  {
   "cell_type": "code",
   "execution_count": 1,
   "id": "cc944c1b",
   "metadata": {},
   "outputs": [],
   "source": [
    "from ultralytics import YOLO\n",
    "import supervision as sv\n",
    "import pickle\n",
    "import os\n",
    "import cv2\n",
    "from sklearn.cluster import KMeans\n",
    "import pandas as pd\n",
    "import numpy as np\n",
    "\n",
    "#classes/functions used in code\n",
    "from Tracker import Tracker\n",
    "from CameraMovementEst import CameraMovementEst\n",
    "from TeamAssigner import TeamAssigner\n",
    "from utils import measure_distance, read_video, save_video"
   ]
  },
  {
   "cell_type": "markdown",
   "id": "68fdb0da",
   "metadata": {},
   "source": [
    "### Read Video"
   ]
  },
  {
   "cell_type": "code",
   "execution_count": 2,
   "id": "c572e164",
   "metadata": {},
   "outputs": [],
   "source": [
    "#VIDEO INPUT AND OUTPUT\n",
    "video_path = '08fd33_4.mp4'\n",
    "output_video_path = f'outputs/proc_{video_path}'\n",
    "\n",
    "#READ THE VIDEO, FILTERED TO FIRST 480 FRAMES\n",
    "video_frames = read_video(video_path)[0:480]"
   ]
  },
  {
   "cell_type": "markdown",
   "id": "042df5a2",
   "metadata": {},
   "source": [
    "### Object Tracker"
   ]
  },
  {
   "cell_type": "code",
   "execution_count": 3,
   "id": "3b4a234b",
   "metadata": {},
   "outputs": [],
   "source": [
    "#INITIALIZE AND CALCULATE TRACKERS AND TRACKS\n",
    "tracker = Tracker(\"runs/detect/train32/weights/best.pt\")\n",
    "read_from_stub = True\n",
    "tracks = tracker.get_object_tracks(video_frames, read_from_stub, stub_path='stubs/tracks_stub.pkl')"
   ]
  },
  {
   "cell_type": "code",
   "execution_count": null,
   "id": "0e49f967",
   "metadata": {},
   "outputs": [],
   "source": [
    "# EXAMPLE OF TRACKS STRUCTURE\n",
    "# tracks['ball'][0]\n",
    "# {1: {'bbox': [1186.50537109375,\n",
    "#    851.7998046875,\n",
    "#    1203.2734375,\n",
    "#    866.3892822265625]}}\n",
    "\n",
    "# tracks['players'][0]\n",
    "# {158: {'bbox': [848.0615234375,\n",
    "#    632.483154296875,\n",
    "#    900.4759521484375,\n",
    "#    721.60888671875]},\n",
    "#  159: {'bbox': [587.0673828125,\n",
    "#    590.008056640625,\n",
    "#    629.8409423828125,\n",
    "#    672.2762451171875]},"
   ]
  },
  {
   "cell_type": "markdown",
   "id": "f07ded44",
   "metadata": {},
   "source": [
    "### Camera Movement"
   ]
  },
  {
   "cell_type": "code",
   "execution_count": 4,
   "id": "8cf06736",
   "metadata": {},
   "outputs": [],
   "source": [
    "#INITIALIZE AND CALCULATE CAMERA MOVEWMENT\n",
    "camera_movement_est = CameraMovementEst(video_frames[0])\n",
    "camera_movement_per_frame = camera_movement_est.get_camera_movement(video_frames, read_from_stub=True, stub_path='stubs/camera_stub.pkl')"
   ]
  },
  {
   "cell_type": "code",
   "execution_count": 5,
   "id": "34dbeb08",
   "metadata": {},
   "outputs": [],
   "source": [
    "#ADD PLAYER POSITIONS AND SPEED TO TRACKS \n",
    "tracker.add_positions_to_tracks(tracks, camera_movement_per_frame)\n",
    "tracker.add_speed_to_tracks(tracks)"
   ]
  },
  {
   "cell_type": "code",
   "execution_count": 6,
   "id": "62342f52",
   "metadata": {},
   "outputs": [],
   "source": [
    "#INTERPOLATE BALL POSITIONS\n",
    "tracks['ball'] = tracker.interpolate_ball(tracks['ball'])"
   ]
  },
  {
   "cell_type": "code",
   "execution_count": 7,
   "id": "405a0095",
   "metadata": {},
   "outputs": [],
   "source": [
    "# ASSIGN PLAYER TEAMS\n",
    "team_assigner = TeamAssigner()\n",
    "\n",
    "#assign only players in frame 0\n",
    "team_assigner.assign_team_color(video_frames[0], tracks['players'][0])\n",
    "\n",
    "#assign teams to tracks\n",
    "for frame_num, player_track in enumerate(tracks['players']):\n",
    "    for player_id, track in player_track.items():\n",
    "        team = team_assigner.get_player_team(video_frames[frame_num], track['bbox'], player_id)\n",
    "        tracks['players'][frame_num][player_id]['team'] = team\n",
    "        tracks['players'][frame_num][player_id]['team_color'] = team_assigner.team_colors[team]\n",
    "\n",
    "#determine player that has the ball\n",
    "for frame_num, player_track in enumerate(tracks['players']):\n",
    "    ball_bbox = tracks['ball'][frame_num][1]['bbox']\n",
    "    assigned_player = tracker.assign_ball_to_player(player_track, ball_bbox)\n",
    "    \n",
    "    if assigned_player != -1:\n",
    "        tracks['players'][frame_num][assigned_player]['has_ball']=True"
   ]
  },
  {
   "cell_type": "code",
   "execution_count": 8,
   "id": "9a6ef6d4",
   "metadata": {},
   "outputs": [],
   "source": [
    "# ADD ANNOTATIONS AND CAMERA MOVEMENT\n",
    "output_video = tracker.draw_anotations(video_frames, tracks)\n",
    "output_video = camera_movement_est.draw_camera_movement(output_video, camera_movement_per_frame)"
   ]
  },
  {
   "cell_type": "code",
   "execution_count": 9,
   "id": "e80c628e",
   "metadata": {},
   "outputs": [],
   "source": [
    "#SAVE PROCESSED VIDEO\n",
    "save_video(output_video, output_video_path)"
   ]
  }
 ],
 "metadata": {
  "kernelspec": {
   "display_name": "Python 3",
   "language": "python",
   "name": "python3"
  },
  "language_info": {
   "codemirror_mode": {
    "name": "ipython",
    "version": 3
   },
   "file_extension": ".py",
   "mimetype": "text/x-python",
   "name": "python",
   "nbconvert_exporter": "python",
   "pygments_lexer": "ipython3",
   "version": "3.9.2"
  }
 },
 "nbformat": 4,
 "nbformat_minor": 5
}
